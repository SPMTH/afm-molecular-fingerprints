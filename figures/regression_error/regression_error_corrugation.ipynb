{
 "cells": [
  {
   "cell_type": "markdown",
   "id": "c24f7d32",
   "metadata": {},
   "source": [
    "Analysis of the error of regression models depending on the corrugation"
   ]
  },
  {
   "cell_type": "code",
   "execution_count": 1,
   "id": "f2d5b6c3",
   "metadata": {},
   "outputs": [
    {
     "name": "stdout",
     "output_type": "stream",
     "text": [
      "PyTorch version: 1.12.1\n",
      "PyTorch version: 1.12.1\n",
      "Packages loaded\n",
      "available devices: 1\n",
      "cuda:0 NVIDIA A40\n",
      "Experiment name: debug_regression\n"
     ]
    },
    {
     "name": "stderr",
     "output_type": "stream",
     "text": [
      "/home/mgonzalez/.conda/envs/pytorch/lib/python3.10/site-packages/torch/utils/data/dataloader.py:563: UserWarning: This DataLoader will create 7 worker processes in total. Our suggested max number of worker in current system is 2, which is smaller than what this DataLoader is going to create. Please be aware that excessive worker creation might get DataLoader running slow or even freeze, lower the worker number to avoid potential slowness/freeze if necessary.\n",
      "  warnings.warn(_create_warning_msg(\n"
     ]
    },
    {
     "name": "stdout",
     "output_type": "stream",
     "text": [
      "Test set samples: 279848\n",
      "Finished\n"
     ]
    }
   ],
   "source": [
    "# -*- coding: utf-8 -*-\n",
    "'Evaluate models and create JSON of metrics'\n",
    "\n",
    "# -*- coding: utf-8 -*-\n",
    "# IMPORTS\n",
    "# additional packages\n",
    "from PIL import Image\n",
    "import numpy as np\n",
    "import pandas as pd\n",
    "import matplotlib.pyplot as plt\n",
    "import random\n",
    "import argparse\n",
    "import os\n",
    "import time\n",
    "import glob\n",
    "from tqdm import tqdm\n",
    "import json\n",
    "import sys\n",
    "import pickle\n",
    "USER = os.getenv('USER')\n",
    "sys.path.append(f'/home/{USER}/CODE/Pytorch-fingerprints/')\n",
    "\n",
    "# torch packages\n",
    "import torch\n",
    "import torchvision\n",
    "import torch.nn as nn\n",
    "import torch.backends.cudnn as cudnn\n",
    "import torch.utils.data as data\n",
    "from torch import optim\n",
    "from torchvision import datasets, transforms, models\n",
    "from torchvision.models import resnet50, ResNet50_Weights, efficientnet_b0, EfficientNet_B0_Weights\n",
    "import torchvision.transforms.functional as TF\n",
    "\n",
    "from torchmetrics import MetricCollection\n",
    "from torchmetrics.classification import MultilabelRecall, MultilabelPrecision, MultilabelF1Score\n",
    "\n",
    "import torch.nn.functional as F\n",
    "from torch.utils.data import Dataset\n",
    "\n",
    "print('PyTorch version:', torch.__version__)\n",
    "\n",
    "\n",
    "\n",
    "# custom functions\n",
    "from utils.all_utils import train_test_split, compute_pos_weights, train_for_epoch, save_config, validate, \\\n",
    "                            balance_beta_pos_weights, tanimoto_torch, validate_regression\n",
    "\n",
    "from utils.models import resnet_10_chan, effnet_10_chan, eff_net_bias_warmer, regressor_from_checkpoint, \\\n",
    "                            AtomCountPredictor\n",
    "\n",
    "\n",
    "from utils.dataloader import  QUAM_atom_regressor_10_imgs, dataset_ks_dict, parse_k1_to_k, parse_val_ks\n",
    "\n",
    "from utils.evaluation import virtual_epoch_paths\n",
    "\n",
    "print('Packages loaded')\n",
    "\n",
    "# make sure to enable GPU acceleration!\n",
    "print(f'available devices: {torch.cuda.device_count()}')\n",
    "device = torch.device('cuda:0' if torch.cuda.is_available() else 'cpu')\n",
    "torch.cuda.device(0)\n",
    "print(device, torch.cuda.get_device_name(0))\n",
    "\n",
    "\n",
    "class configuration:\n",
    "    def __init__(self):\n",
    "        # EXPERIMENT PARAMETERS\n",
    "        self.experiment_name = 'debug_regression'\n",
    "        self.n_fp = 1024  # number of fingerprints of the backbone model\n",
    "        self.output_size = 10 # output size of regressor model\n",
    "        self.ratio = 0.95  # train/test ratio\n",
    "        self.seed = 42\n",
    "        self.virtual_epochs = 10 # number of times we save the model per epoch. If equal to 1\n",
    "                                # we only save at the end of each epoch.\n",
    "        self.tqdm_flag = True\n",
    "\n",
    "        # TRAINING PARAMETERS\n",
    "\n",
    "        self.lr = 0.001  # learning rate\n",
    "        self.dropout = 0.5\n",
    "        # self.momentum = 0.9  # momentum of SGD optimizer\n",
    "        self.weight_decay = 0  # L2 regularization constant\n",
    "        self.batch_size = 50  # Training batch size\n",
    "        self.test_batch_size = 100  # Test batch size\n",
    "        self.epochs = 100  # Number of epochs\n",
    "        self.bias_warmer = True # setting appropiate bias\n",
    "        self.pos_weight_balancer = True #for bigger fingerprints, it helps balance precision and recall\n",
    "        self.pos_weight_beta = 10\n",
    "        # DATA AUGMENTATION PARAMETERS\n",
    "\n",
    "        # Rotation\n",
    "        self.rot_prob = 0.5  # prob of rotation in data augmentation\n",
    "        self.max_deg = 180  # maximum degrees of rotation in data augmentation\n",
    "\n",
    "        # Zoom\n",
    "        self.zoom_prob = 0.7  # prob of applying zoom\n",
    "        self.max_zoom = 0.7  # maximum zooming in/out\n",
    "\n",
    "        # Translation\n",
    "        self.shift_prob = 0.3  # probability of vertical or/and horizontal translation\n",
    "        self.max_shift = 20  # translation\n",
    "\n",
    "        # Shear\n",
    "        self.shear_prob = 0.3  # probability of shearing\n",
    "        self.max_shear = 10  # maximum shearing angle\n",
    "\n",
    "        # Gaussian noise\n",
    "        self.gauss_noise = 2 # std of gaussian noise\n",
    "\n",
    "        # comments\n",
    "        self.comments = 'It uses all K folders'\n",
    "\n",
    "        # METRICS AND MODELS PATHS\n",
    "        self.exp_path = os.path.join('./experiments', self.experiment_name)\n",
    "        self.metrics_path = os.path.join(self.exp_path, 'metrics')\n",
    "        self.models_path = os.path.join(self.exp_path, 'models')\n",
    "\n",
    "\n",
    "\n",
    "## Create arguments object\n",
    "args = configuration()\n",
    "# Print experiment name\n",
    "print('Experiment name:', args.experiment_name)\n",
    "# Set random seed for reproducibility\n",
    "torch.backends.cudnn.deterministic = True  # fix the GPU to deterministic mode\n",
    "torch.manual_seed(args.seed)  # CPU seed\n",
    "torch.cuda.manual_seed_all(args.seed)  # GPU seed\n",
    "random.seed(args.seed)  # python seed for image transformation\n",
    "np.random.seed(args.seed)\n",
    "\n",
    "# Load data\n",
    "\n",
    "data_path = f'/home/{USER}/QUAM-AFM/datasets/atoms_count_w_H_df.gz'\n",
    "dataset_df = pd.read_pickle(data_path)\n",
    "\n",
    "test_df = dataset_df[dataset_df['split'] == 'test']\n",
    "test_k_df = parse_val_ks(test_df)\n",
    "\n",
    "\n",
    "testset = QUAM_atom_regressor_10_imgs(args, test_k_df, mode='test')\n",
    "test_loader = torch.utils.data.DataLoader(testset, batch_size=args.test_batch_size, shuffle=False, num_workers=7,\n",
    "                                           pin_memory=True)\n",
    "\n",
    "print('Test set samples:', len(testset))\n",
    "\n",
    "\n",
    "\n",
    "\n",
    "\n",
    "# model and metrics initialization\n",
    "criterion = nn.MSELoss()\n",
    "\n",
    "models_path = f'/home/{USER}/CODE/Pytorch-fingerprints/experiments/regression_w_H/models'\n",
    "checkpoint_path = os.path.join(models_path, 'checkpoint_2_virtual_epoch_1.pth')\n",
    "\n",
    "pretrained_model = effnet_10_chan(output_size=args.n_fp, dropout=args.dropout)\n",
    "model = AtomCountPredictor(pretrained_model, output_size=args.output_size).to(device)\n",
    "\n",
    "checkpoint = torch.load(checkpoint_path)\n",
    "model.load_state_dict(checkpoint['model_state_dict'])\n",
    "\n",
    "\n",
    "print('Finished')\n"
   ]
  },
  {
   "cell_type": "code",
   "execution_count": 2,
   "id": "2cb61501",
   "metadata": {},
   "outputs": [
    {
     "name": "stdout",
     "output_type": "stream",
     "text": [
      "5\n"
     ]
    }
   ],
   "source": [
    "print(5)"
   ]
  },
  {
   "cell_type": "code",
   "execution_count": 3,
   "id": "46b65490",
   "metadata": {},
   "outputs": [],
   "source": [
    "dict_path = f'/home/{USER}/QUAM-AFM/DICTIONARIES/cid_corrugation_dict.pickle'\n",
    "with open(dict_path, 'rb') as handle:\n",
    "    cid_corrugation_dict = pickle.load(handle)"
   ]
  },
  {
   "cell_type": "code",
   "execution_count": 4,
   "id": "99c33d80",
   "metadata": {},
   "outputs": [],
   "source": [
    "test_k_df['corrugation'] = [cid_corrugation_dict[str(x)] for x in test_k_df['CID']]"
   ]
  },
  {
   "cell_type": "code",
   "execution_count": null,
   "id": "37e2f0c5",
   "metadata": {},
   "outputs": [
    {
     "name": "stderr",
     "output_type": "stream",
     "text": [
      " 57%|██████████████████████▎                | 1605/2799 [15:29<04:56,  4.03it/s]"
     ]
    }
   ],
   "source": [
    "model.eval()\n",
    "\n",
    "test_predictions = []\n",
    "ground_truth = []\n",
    "\n",
    "with torch.no_grad():\n",
    "    for batch, target in tqdm(test_loader):\n",
    "\n",
    "        # move data to the device\n",
    "        batch = batch.to(device)\n",
    "\n",
    "        # make predictions\n",
    "        predictions = torch.round(model(batch))\n",
    "        ground_truth.append(target.cpu().detach().numpy())\n",
    "        test_predictions.append(predictions.cpu().detach().numpy())\n",
    "\n",
    "test_predictions = np.concatenate(test_predictions)\n",
    "ground_truth = np.concatenate(ground_truth)"
   ]
  },
  {
   "cell_type": "code",
   "execution_count": 9,
   "id": "3890e4af",
   "metadata": {},
   "outputs": [
    {
     "name": "stdout",
     "output_type": "stream",
     "text": [
      "(166300, 10) (166300, 10)\n"
     ]
    }
   ],
   "source": [
    "print(test_predictions.shape, ground_truth.shape)"
   ]
  },
  {
   "cell_type": "code",
   "execution_count": 16,
   "id": "2b70de3a",
   "metadata": {},
   "outputs": [
    {
     "name": "stdout",
     "output_type": "stream",
     "text": [
      "CID                                                     12368358\n",
      "C                                                              5\n",
      "Br                                                             0\n",
      "Cl                                                             0\n",
      "F                                                              0\n",
      "I                                                              0\n",
      "N                                                              1\n",
      "O                                                              1\n",
      "P                                                              0\n",
      "S                                                              1\n",
      "H                                                              7\n",
      "split                                                       test\n",
      "path           /scratch/dataset/quam/K-1/Conformer3D_CID_1236...\n",
      "corrugation                                               0.0005\n",
      "Name: 77, dtype: object\n",
      "[5. 0. 0. 0. 0. 1. 1. 0. 1. 7.]\n",
      "[5. 0. 0. 0. 0. 1. 1. 0. 1. 7.]\n"
     ]
    }
   ],
   "source": [
    "INDEX = 35\n",
    "print(test_k_df.iloc[INDEX])\n",
    "print(ground_truth[INDEX])\n",
    "print(test_predictions[INDEX])\n"
   ]
  },
  {
   "cell_type": "markdown",
   "id": "21a6cf31",
   "metadata": {},
   "source": [
    "### Compute classification accuracy and regression metrics\n"
   ]
  },
  {
   "cell_type": "code",
   "execution_count": 17,
   "id": "f02e1d2b",
   "metadata": {},
   "outputs": [
    {
     "name": "stdout",
     "output_type": "stream",
     "text": [
      "          CID   C  Br  Cl  F  I  N  O  P  S   H split  \\\n",
      "1    10001048  25   0   0  0  0  6  0  0  0  16  test   \n",
      "7       10005   2   0   0  0  0  4  0  0  0   4  test   \n",
      "14  100128716  15   0   0  0  0  3  0  0  0  21  test   \n",
      "15  100175925  10   0   0  0  0  3  4  0  2   9  test   \n",
      "16  100197007  18   0   0  0  0  3  4  0  2  13  test   \n",
      "18  100197976  20   0   0  0  0  2  3  0  1  14  test   \n",
      "23     228827   7   0   0  0  0  6  2  0  0   8  test   \n",
      "24     228834  14   0   0  0  0  8  4  0  0   8  test   \n",
      "25   22886611  11   0   0  0  0  0  1  0  1  12  test   \n",
      "27   22886614  14   0   0  0  0  0  0  0  1  12  test   \n",
      "\n",
      "                                                 path  corrugation  \n",
      "1   /scratch/dataset/quam/K-1/Conformer3D_CID_1000...       1.1767  \n",
      "7   /scratch/dataset/quam/K-1/Conformer3D_CID_1000...       0.0002  \n",
      "14  /scratch/dataset/quam/K-1/Conformer3D_CID_1001...       0.0110  \n",
      "15  /scratch/dataset/quam/K-1/Conformer3D_CID_1001...       0.0530  \n",
      "16  /scratch/dataset/quam/K-1/Conformer3D_CID_1001...       0.0856  \n",
      "18  /scratch/dataset/quam/K-1/Conformer3D_CID_1001...       0.0793  \n",
      "23  /scratch/dataset/quam/K-1/Conformer3D_CID_2288...       0.0061  \n",
      "24  /scratch/dataset/quam/K-1/Conformer3D_CID_2288...       0.0056  \n",
      "25  /scratch/dataset/quam/K-1/Conformer3D_CID_2288...       0.0018  \n",
      "27  /scratch/dataset/quam/K-1/Conformer3D_CID_2288...       0.0010  \n",
      "[[25.  0.  0.  0.  0.  6.  0.  0.  0. 16.]\n",
      " [ 2.  0.  0.  0.  0.  4.  0.  0.  0.  4.]\n",
      " [15.  0.  0.  0.  0.  3.  0.  0.  0. 21.]\n",
      " [10.  0.  0.  0.  0.  3.  4.  0.  2.  9.]\n",
      " [18.  0.  0.  0.  0.  3.  4.  0.  2. 13.]\n",
      " [20.  0.  0.  0.  0.  2.  3.  0.  1. 14.]\n",
      " [ 7.  0.  0.  0.  0.  6.  2.  0.  0.  8.]\n",
      " [14.  0.  0.  0.  0.  8.  4.  0.  0.  8.]\n",
      " [11.  0.  0.  0.  0.  0.  1.  0.  1. 12.]\n",
      " [14.  0.  0.  0.  0.  0.  0.  0.  1. 12.]]\n",
      "[[25.  0.  0.  0.  0.  6.  0.  0.  0. 16.]\n",
      " [ 2.  0.  0.  0.  0.  4.  0.  0.  0.  4.]\n",
      " [15.  0.  0.  0.  0.  3.  0.  0.  0. 21.]\n",
      " [10.  0.  0.  0.  0.  3.  4.  0.  2.  9.]\n",
      " [18.  0.  0.  0.  0.  3.  4.  0.  2. 13.]\n",
      " [20.  0.  0.  0.  0.  2.  3.  0.  1. 14.]\n",
      " [ 7.  0.  0.  0.  0.  6.  2.  0.  0.  8.]\n",
      " [14.  0.  0.  0.  0.  8.  4.  0.  0.  8.]\n",
      " [11.  0.  0.  0.  0.  0.  1.  0.  1. 12.]\n",
      " [14.  0.  0.  0.  0.  0.  0.  0.  1. 12.]]\n"
     ]
    }
   ],
   "source": [
    "print(test_k_df.iloc[:10])\n",
    "print(ground_truth[:10])\n",
    "print(test_predictions[:10])"
   ]
  },
  {
   "cell_type": "code",
   "execution_count": 26,
   "id": "7db9f31c",
   "metadata": {},
   "outputs": [
    {
     "data": {
      "text/plain": [
       "C     0.000036\n",
       "Br    0.823697\n",
       "Cl    0.758072\n",
       "F     0.817633\n",
       "I     0.959900\n",
       "N     0.079147\n",
       "O     0.215213\n",
       "P     0.998867\n",
       "S     0.752977\n",
       "H     0.000386\n",
       "dtype: float64"
      ]
     },
     "execution_count": 26,
     "metadata": {},
     "output_type": "execute_result"
    }
   ],
   "source": [
    "(test_k_df[['C', 'Br', 'Cl', 'F', 'I', 'N', 'O', 'P', 'S', 'H']]<1).sum()/len(test_k_df)"
   ]
  },
  {
   "cell_type": "code",
   "execution_count": null,
   "id": "f14f0134",
   "metadata": {},
   "outputs": [],
   "source": [
    "(ground_truth<1).sum(axis=0)/len(ground_truth)"
   ]
  },
  {
   "cell_type": "markdown",
   "id": "4ffeb3a6",
   "metadata": {},
   "source": [
    "#### Compute classification metrics"
   ]
  },
  {
   "cell_type": "code",
   "execution_count": null,
   "id": "3c60a15d",
   "metadata": {},
   "outputs": [],
   "source": [
    "from sklearn.metrics import precision_recall_fscore_support"
   ]
  },
  {
   "cell_type": "code",
   "execution_count": null,
   "id": "34f1a930",
   "metadata": {},
   "outputs": [],
   "source": [
    "atom_list = ['C', 'Br', 'Cl', 'F', 'I', 'N', 'O', 'P', 'S', 'H']\n",
    "gt_class = (ground_truth>0)\n",
    "pred_class = (test_predictions>0)\n",
    "class_atom_dict = dict()\n",
    "for i, atom in enumerate(atom_list):\n",
    "    prec, recall, f1_score, _ = precision_recall_fscore_support(gt_class[:, i], pred_class[:, i], average='binary')\n",
    "    class_atom_dict[atom] = {'precision': prec, \n",
    "                             'recall': recall, \n",
    "                             'f1_score': f1_score}\n",
    "\n",
    "    "
   ]
  },
  {
   "cell_type": "code",
   "execution_count": null,
   "id": "b9c67089",
   "metadata": {},
   "outputs": [],
   "source": [
    "class_atom_dict"
   ]
  },
  {
   "cell_type": "code",
   "execution_count": null,
   "id": "a76ac4a4",
   "metadata": {},
   "outputs": [],
   "source": [
    "\n",
    "def create_latex_table(class_atom_dict):\n",
    "    headers = ['Atom', 'Precision', 'Recall', 'F1 Score']\n",
    "    rows = []\n",
    "\n",
    "    for atom, scores in class_atom_dict.items():\n",
    "        precision = \"{:.4f}\".format(scores['precision'])\n",
    "        recall = \"{:.4f}\".format(scores['recall'])\n",
    "        f1_score = \"{:.4f}\".format(scores['f1_score'])\n",
    "        row = f\"{atom} & {precision} & {recall} & {f1_score} \\\\\\\\\"\n",
    "        rows.append(row)\n",
    "\n",
    "    latex_table = \"\\\\begin{table}[h]\\n\\\\centering\\n\\\\caption{Atom Classification Scores}\\n\\\\begin{tabular}{cccc}\\n\"\n",
    "    latex_table += \" & \".join(headers) + \" \\\\\\\\\\n\"\n",
    "    latex_table += \"\\\\hline\\n\"\n",
    "    latex_table += \"\\n\".join(rows)\n",
    "    latex_table += \"\\n\\\\end{tabular}\\n\\\\end{table}\"\n",
    "\n",
    "    return latex_table\n",
    "table = create_latex_table(class_atom_dict)\n",
    "print(table)"
   ]
  },
  {
   "cell_type": "markdown",
   "id": "9822e9c2",
   "metadata": {},
   "source": [
    "#### Compute mse and pearson correlation for each atom"
   ]
  },
  {
   "cell_type": "code",
   "execution_count": null,
   "id": "68ecc6da",
   "metadata": {},
   "outputs": [],
   "source": [
    "from sklearn.metrics import mean_squared_error\n",
    "from sklearn.feature_selection import r_regression\n",
    "atom_list = ['C', 'Br', 'Cl', 'F', 'I', 'N', 'O', 'P', 'S', 'H']\n",
    "reg_metrics_atom = dict()\n",
    "for i, atom in enumerate(atom_list):\n",
    "    mse = mean_squared_error(ground_truth[:, i], test_predictions[:, i])\n",
    "    pearson_r = r_regression(ground_truth[:, i].reshape(-1, 1), test_predictions[:, i].reshape(-1, 1))\n",
    "    reg_metrics_atom[atom] = {'mse': mse, \n",
    "                              ''' Pearson's r''': pearson_r[0]}\n",
    "\n",
    "    "
   ]
  },
  {
   "cell_type": "code",
   "execution_count": null,
   "id": "598ef736",
   "metadata": {},
   "outputs": [],
   "source": [
    "reg_metrics_atom"
   ]
  },
  {
   "cell_type": "code",
   "execution_count": null,
   "id": "aeb1d697",
   "metadata": {},
   "outputs": [],
   "source": [
    "def create_publication_table_latex(data_dict):\n",
    "    headers = ['Atom', 'MSE', \"Pearson's r\"]\n",
    "    rows = []\n",
    "\n",
    "    for atom, values in data_dict.items():\n",
    "        mse = \"{:.8f}\".format(values['mse'])\n",
    "        pearson_r = \"{:.4f}\".format(values[\" Pearson's r\"])\n",
    "        row = f\"{atom} & {mse} & {pearson_r} \\\\\\\\\"\n",
    "        rows.append(row)\n",
    "\n",
    "    latex_table = \"\\\\begin{table}[h]\\n\\\\centering\\n\\\\caption{Atom Regression Scores}\\n\\\\begin{tabular}{ccc}\\n\"\n",
    "    latex_table += \" & \".join(headers) + \" \\\\\\\\\\n\"\n",
    "    latex_table += \"\\\\hline\\n\"\n",
    "    latex_table += \"\\n\".join(rows)\n",
    "    latex_table += \"\\n\\\\end{tabular}\\n\\\\end{table}\"\n",
    "\n",
    "    return latex_table\n",
    "table = create_publication_table_latex(reg_metrics_atom)\n",
    "print(table)"
   ]
  },
  {
   "cell_type": "code",
   "execution_count": 53,
   "id": "233bfa06",
   "metadata": {},
   "outputs": [
    {
     "data": {
      "text/plain": [
       "(166300, 1)"
      ]
     },
     "execution_count": 53,
     "metadata": {},
     "output_type": "execute_result"
    }
   ],
   "source": []
  },
  {
   "cell_type": "code",
   "execution_count": null,
   "id": "66981b0a",
   "metadata": {},
   "outputs": [],
   "source": [
    "reg_metrics_atom"
   ]
  },
  {
   "cell_type": "code",
   "execution_count": 14,
   "id": "19d775cb",
   "metadata": {},
   "outputs": [
    {
     "name": "stdout",
     "output_type": "stream",
     "text": [
      "valid_loss: 0.027798590250313282\n",
      "valid_accuracy: 0.74\n",
      "acc_atom_dict: {'C': 0.77, 'Br': 1.0, 'Cl': 1.0, 'F': 1.0, 'I': 1.0, 'N': 0.97999996, 'O': 0.97999996, 'P': 1.0, 'S': 0.99}\n"
     ]
    }
   ],
   "source": [
    "valid_loss, valid_accuracy, acc_atom_dict = validate_regression(model, test_loader, criterion, device)\n",
    "\n",
    "print('valid_loss:', valid_loss)\n",
    "print('valid_accuracy:', valid_accuracy)\n",
    "print('acc_atom_dict:', acc_atom_dict)\n"
   ]
  },
  {
   "cell_type": "markdown",
   "id": "57ed97c5",
   "metadata": {},
   "source": [
    "### Accuracy vs corrugation\n"
   ]
  },
  {
   "cell_type": "code",
   "execution_count": 3,
   "id": "22198cd8",
   "metadata": {},
   "outputs": [],
   "source": [
    "test_df = dataset_df[dataset_df['split'] == 'test']\n",
    "test_k_df = parse_val_ks(test_df)\n",
    "test_k_df['corrugation'] = [cid_corrugation_dict[str(x)] for x in test_k_df['CID']]"
   ]
  },
  {
   "cell_type": "code",
   "execution_count": 7,
   "id": "3270760b",
   "metadata": {},
   "outputs": [
    {
     "name": "stderr",
     "output_type": "stream",
     "text": [
      "/tmp/ipykernel_89480/4062025341.py:1: SettingWithCopyWarning: \n",
      "A value is trying to be set on a copy of a slice from a DataFrame.\n",
      "Try using .loc[row_indexer,col_indexer] = value instead\n",
      "\n",
      "See the caveats in the documentation: https://pandas.pydata.org/pandas-docs/stable/user_guide/indexing.html#returning-a-view-versus-a-copy\n",
      "  test_df['corrugation'] = [cid_corrugation_dict[str(x)] for x in test_df['CID']]\n"
     ]
    }
   ],
   "source": [
    "test_df['corrugation'] = [cid_corrugation_dict[str(x)] for x in test_df['CID']]"
   ]
  },
  {
   "cell_type": "code",
   "execution_count": 73,
   "id": "6cd6bc17",
   "metadata": {},
   "outputs": [
    {
     "name": "stdout",
     "output_type": "stream",
     "text": [
      "valid_loss: 0.08787984072322935\n",
      "valid_accuracy: 0.65961313\n",
      "acc_atom_dict: {'C': 0.77149034, 'Br': 0.92937464, 'Cl': 0.93608713, 'F': 0.97761124, 'I': 0.97533625, 'N': 0.92047817, 'O': 0.9364514, 'P': 0.99686, 'S': 0.97303796}\n"
     ]
    }
   ],
   "source": [
    "test_high_corr = parse_val_ks(test_df[test_df['corrugation']>=1.25])\n",
    "testset = QUAM_atom_regressor_10_imgs(args, test_high_corr, mode='test')\n",
    "test_loader = torch.utils.data.DataLoader(testset, batch_size=args.batch_size, shuffle=False, num_workers=7,\n",
    "                                           pin_memory=True)\n",
    "\n",
    "valid_loss, valid_accuracy, acc_atom_dict = validate_regression(model, test_loader, criterion, device)\n",
    "\n",
    "print('valid_loss:', valid_loss)\n",
    "print('valid_accuracy:', valid_accuracy)\n",
    "print('acc_atom_dict:', acc_atom_dict)"
   ]
  },
  {
   "cell_type": "code",
   "execution_count": 74,
   "id": "daade8aa",
   "metadata": {},
   "outputs": [
    {
     "name": "stdout",
     "output_type": "stream",
     "text": [
      "valid_loss: 0.029071598338584106\n",
      "valid_accuracy: 0.8096\n",
      "acc_atom_dict: {'C': 0.8254667, 'Br': 0.9996, 'Cl': 0.9988667, 'F': 1.0, 'I': 0.99986666, 'N': 0.97386706, 'O': 0.98786736, 'P': 0.99986666, 'S': 0.99513346}\n"
     ]
    }
   ],
   "source": [
    "test_low_corr = parse_val_ks(test_df[test_df['corrugation']<0.25].iloc[:15000])\n",
    "\n",
    "testset = QUAM_atom_regressor_10_imgs(args, test_low_corr, mode='test')\n",
    "test_loader = torch.utils.data.DataLoader(testset, batch_size=args.batch_size, shuffle=False, num_workers=7,\n",
    "                                           pin_memory=True)\n",
    "\n",
    "valid_loss, valid_accuracy, acc_atom_dict = validate_regression(model, test_loader, criterion, device)\n",
    "\n",
    "print('valid_loss:', valid_loss)\n",
    "print('valid_accuracy:', valid_accuracy)\n",
    "print('acc_atom_dict:', acc_atom_dict)"
   ]
  },
  {
   "cell_type": "code",
   "execution_count": 37,
   "id": "fed3082b",
   "metadata": {},
   "outputs": [
    {
     "name": "stderr",
     "output_type": "stream",
     "text": [
      " 68%|██████████████████████████            | 1917/2800 [16:35<07:38,  1.93it/s]\n"
     ]
    },
    {
     "ename": "RuntimeError",
     "evalue": "DataLoader worker (pid 89862) is killed by signal: Killed. ",
     "output_type": "error",
     "traceback": [
      "\u001b[0;31m---------------------------------------------------------------------------\u001b[0m",
      "\u001b[0;31mRuntimeError\u001b[0m                              Traceback (most recent call last)",
      "Cell \u001b[0;32mIn[37], line 17\u001b[0m\n\u001b[1;32m     14\u001b[0m batch \u001b[38;5;241m=\u001b[39m batch\u001b[38;5;241m.\u001b[39mto(device)\n\u001b[1;32m     16\u001b[0m \u001b[38;5;66;03m# make predictions\u001b[39;00m\n\u001b[0;32m---> 17\u001b[0m predictions \u001b[38;5;241m=\u001b[39m torch\u001b[38;5;241m.\u001b[39mround(\u001b[43mmodel\u001b[49m\u001b[43m(\u001b[49m\u001b[43mbatch\u001b[49m\u001b[43m)\u001b[49m)\n\u001b[1;32m     18\u001b[0m ground_truth\u001b[38;5;241m.\u001b[39mappend(target\u001b[38;5;241m.\u001b[39mcpu()\u001b[38;5;241m.\u001b[39mdetach()\u001b[38;5;241m.\u001b[39mnumpy())\n\u001b[1;32m     19\u001b[0m test_predictions\u001b[38;5;241m.\u001b[39mappend(predictions\u001b[38;5;241m.\u001b[39mcpu()\u001b[38;5;241m.\u001b[39mdetach()\u001b[38;5;241m.\u001b[39mnumpy())\n",
      "File \u001b[0;32m~/.conda/envs/pytorch/lib/python3.10/site-packages/torch/nn/modules/module.py:1130\u001b[0m, in \u001b[0;36mModule._call_impl\u001b[0;34m(self, *input, **kwargs)\u001b[0m\n\u001b[1;32m   1126\u001b[0m \u001b[38;5;66;03m# If we don't have any hooks, we want to skip the rest of the logic in\u001b[39;00m\n\u001b[1;32m   1127\u001b[0m \u001b[38;5;66;03m# this function, and just call forward.\u001b[39;00m\n\u001b[1;32m   1128\u001b[0m \u001b[38;5;28;01mif\u001b[39;00m \u001b[38;5;129;01mnot\u001b[39;00m (\u001b[38;5;28mself\u001b[39m\u001b[38;5;241m.\u001b[39m_backward_hooks \u001b[38;5;129;01mor\u001b[39;00m \u001b[38;5;28mself\u001b[39m\u001b[38;5;241m.\u001b[39m_forward_hooks \u001b[38;5;129;01mor\u001b[39;00m \u001b[38;5;28mself\u001b[39m\u001b[38;5;241m.\u001b[39m_forward_pre_hooks \u001b[38;5;129;01mor\u001b[39;00m _global_backward_hooks\n\u001b[1;32m   1129\u001b[0m         \u001b[38;5;129;01mor\u001b[39;00m _global_forward_hooks \u001b[38;5;129;01mor\u001b[39;00m _global_forward_pre_hooks):\n\u001b[0;32m-> 1130\u001b[0m     \u001b[38;5;28;01mreturn\u001b[39;00m \u001b[43mforward_call\u001b[49m\u001b[43m(\u001b[49m\u001b[38;5;241;43m*\u001b[39;49m\u001b[38;5;28;43minput\u001b[39;49m\u001b[43m,\u001b[49m\u001b[43m \u001b[49m\u001b[38;5;241;43m*\u001b[39;49m\u001b[38;5;241;43m*\u001b[39;49m\u001b[43mkwargs\u001b[49m\u001b[43m)\u001b[49m\n\u001b[1;32m   1131\u001b[0m \u001b[38;5;66;03m# Do not call functions when jit is used\u001b[39;00m\n\u001b[1;32m   1132\u001b[0m full_backward_hooks, non_full_backward_hooks \u001b[38;5;241m=\u001b[39m [], []\n",
      "File \u001b[0;32m~/CODE/Pytorch-fingerprints/utils/models.py:192\u001b[0m, in \u001b[0;36mAtomCountPredictor.forward\u001b[0;34m(self, x)\u001b[0m\n\u001b[1;32m    191\u001b[0m \u001b[38;5;28;01mdef\u001b[39;00m \u001b[38;5;21mforward\u001b[39m(\u001b[38;5;28mself\u001b[39m, x):\n\u001b[0;32m--> 192\u001b[0m     x \u001b[38;5;241m=\u001b[39m \u001b[38;5;28;43mself\u001b[39;49m\u001b[38;5;241;43m.\u001b[39;49m\u001b[43mbackbone\u001b[49m\u001b[43m(\u001b[49m\u001b[43mx\u001b[49m\u001b[43m)\u001b[49m\n\u001b[1;32m    193\u001b[0m     x \u001b[38;5;241m=\u001b[39m \u001b[38;5;28mself\u001b[39m\u001b[38;5;241m.\u001b[39mavgpool(x)\n\u001b[1;32m    194\u001b[0m     x \u001b[38;5;241m=\u001b[39m x\u001b[38;5;241m.\u001b[39msqueeze()\n",
      "File \u001b[0;32m~/.conda/envs/pytorch/lib/python3.10/site-packages/torch/nn/modules/module.py:1130\u001b[0m, in \u001b[0;36mModule._call_impl\u001b[0;34m(self, *input, **kwargs)\u001b[0m\n\u001b[1;32m   1126\u001b[0m \u001b[38;5;66;03m# If we don't have any hooks, we want to skip the rest of the logic in\u001b[39;00m\n\u001b[1;32m   1127\u001b[0m \u001b[38;5;66;03m# this function, and just call forward.\u001b[39;00m\n\u001b[1;32m   1128\u001b[0m \u001b[38;5;28;01mif\u001b[39;00m \u001b[38;5;129;01mnot\u001b[39;00m (\u001b[38;5;28mself\u001b[39m\u001b[38;5;241m.\u001b[39m_backward_hooks \u001b[38;5;129;01mor\u001b[39;00m \u001b[38;5;28mself\u001b[39m\u001b[38;5;241m.\u001b[39m_forward_hooks \u001b[38;5;129;01mor\u001b[39;00m \u001b[38;5;28mself\u001b[39m\u001b[38;5;241m.\u001b[39m_forward_pre_hooks \u001b[38;5;129;01mor\u001b[39;00m _global_backward_hooks\n\u001b[1;32m   1129\u001b[0m         \u001b[38;5;129;01mor\u001b[39;00m _global_forward_hooks \u001b[38;5;129;01mor\u001b[39;00m _global_forward_pre_hooks):\n\u001b[0;32m-> 1130\u001b[0m     \u001b[38;5;28;01mreturn\u001b[39;00m \u001b[43mforward_call\u001b[49m\u001b[43m(\u001b[49m\u001b[38;5;241;43m*\u001b[39;49m\u001b[38;5;28;43minput\u001b[39;49m\u001b[43m,\u001b[49m\u001b[43m \u001b[49m\u001b[38;5;241;43m*\u001b[39;49m\u001b[38;5;241;43m*\u001b[39;49m\u001b[43mkwargs\u001b[49m\u001b[43m)\u001b[49m\n\u001b[1;32m   1131\u001b[0m \u001b[38;5;66;03m# Do not call functions when jit is used\u001b[39;00m\n\u001b[1;32m   1132\u001b[0m full_backward_hooks, non_full_backward_hooks \u001b[38;5;241m=\u001b[39m [], []\n",
      "File \u001b[0;32m~/.conda/envs/pytorch/lib/python3.10/site-packages/torch/nn/modules/container.py:139\u001b[0m, in \u001b[0;36mSequential.forward\u001b[0;34m(self, input)\u001b[0m\n\u001b[1;32m    137\u001b[0m \u001b[38;5;28;01mdef\u001b[39;00m \u001b[38;5;21mforward\u001b[39m(\u001b[38;5;28mself\u001b[39m, \u001b[38;5;28minput\u001b[39m):\n\u001b[1;32m    138\u001b[0m     \u001b[38;5;28;01mfor\u001b[39;00m module \u001b[38;5;129;01min\u001b[39;00m \u001b[38;5;28mself\u001b[39m:\n\u001b[0;32m--> 139\u001b[0m         \u001b[38;5;28minput\u001b[39m \u001b[38;5;241m=\u001b[39m \u001b[43mmodule\u001b[49m\u001b[43m(\u001b[49m\u001b[38;5;28;43minput\u001b[39;49m\u001b[43m)\u001b[49m\n\u001b[1;32m    140\u001b[0m     \u001b[38;5;28;01mreturn\u001b[39;00m \u001b[38;5;28minput\u001b[39m\n",
      "File \u001b[0;32m~/.conda/envs/pytorch/lib/python3.10/site-packages/torch/nn/modules/module.py:1130\u001b[0m, in \u001b[0;36mModule._call_impl\u001b[0;34m(self, *input, **kwargs)\u001b[0m\n\u001b[1;32m   1126\u001b[0m \u001b[38;5;66;03m# If we don't have any hooks, we want to skip the rest of the logic in\u001b[39;00m\n\u001b[1;32m   1127\u001b[0m \u001b[38;5;66;03m# this function, and just call forward.\u001b[39;00m\n\u001b[1;32m   1128\u001b[0m \u001b[38;5;28;01mif\u001b[39;00m \u001b[38;5;129;01mnot\u001b[39;00m (\u001b[38;5;28mself\u001b[39m\u001b[38;5;241m.\u001b[39m_backward_hooks \u001b[38;5;129;01mor\u001b[39;00m \u001b[38;5;28mself\u001b[39m\u001b[38;5;241m.\u001b[39m_forward_hooks \u001b[38;5;129;01mor\u001b[39;00m \u001b[38;5;28mself\u001b[39m\u001b[38;5;241m.\u001b[39m_forward_pre_hooks \u001b[38;5;129;01mor\u001b[39;00m _global_backward_hooks\n\u001b[1;32m   1129\u001b[0m         \u001b[38;5;129;01mor\u001b[39;00m _global_forward_hooks \u001b[38;5;129;01mor\u001b[39;00m _global_forward_pre_hooks):\n\u001b[0;32m-> 1130\u001b[0m     \u001b[38;5;28;01mreturn\u001b[39;00m \u001b[43mforward_call\u001b[49m\u001b[43m(\u001b[49m\u001b[38;5;241;43m*\u001b[39;49m\u001b[38;5;28;43minput\u001b[39;49m\u001b[43m,\u001b[49m\u001b[43m \u001b[49m\u001b[38;5;241;43m*\u001b[39;49m\u001b[38;5;241;43m*\u001b[39;49m\u001b[43mkwargs\u001b[49m\u001b[43m)\u001b[49m\n\u001b[1;32m   1131\u001b[0m \u001b[38;5;66;03m# Do not call functions when jit is used\u001b[39;00m\n\u001b[1;32m   1132\u001b[0m full_backward_hooks, non_full_backward_hooks \u001b[38;5;241m=\u001b[39m [], []\n",
      "File \u001b[0;32m~/.conda/envs/pytorch/lib/python3.10/site-packages/torch/nn/modules/container.py:139\u001b[0m, in \u001b[0;36mSequential.forward\u001b[0;34m(self, input)\u001b[0m\n\u001b[1;32m    137\u001b[0m \u001b[38;5;28;01mdef\u001b[39;00m \u001b[38;5;21mforward\u001b[39m(\u001b[38;5;28mself\u001b[39m, \u001b[38;5;28minput\u001b[39m):\n\u001b[1;32m    138\u001b[0m     \u001b[38;5;28;01mfor\u001b[39;00m module \u001b[38;5;129;01min\u001b[39;00m \u001b[38;5;28mself\u001b[39m:\n\u001b[0;32m--> 139\u001b[0m         \u001b[38;5;28minput\u001b[39m \u001b[38;5;241m=\u001b[39m \u001b[43mmodule\u001b[49m\u001b[43m(\u001b[49m\u001b[38;5;28;43minput\u001b[39;49m\u001b[43m)\u001b[49m\n\u001b[1;32m    140\u001b[0m     \u001b[38;5;28;01mreturn\u001b[39;00m \u001b[38;5;28minput\u001b[39m\n",
      "File \u001b[0;32m~/.conda/envs/pytorch/lib/python3.10/site-packages/torch/nn/modules/module.py:1130\u001b[0m, in \u001b[0;36mModule._call_impl\u001b[0;34m(self, *input, **kwargs)\u001b[0m\n\u001b[1;32m   1126\u001b[0m \u001b[38;5;66;03m# If we don't have any hooks, we want to skip the rest of the logic in\u001b[39;00m\n\u001b[1;32m   1127\u001b[0m \u001b[38;5;66;03m# this function, and just call forward.\u001b[39;00m\n\u001b[1;32m   1128\u001b[0m \u001b[38;5;28;01mif\u001b[39;00m \u001b[38;5;129;01mnot\u001b[39;00m (\u001b[38;5;28mself\u001b[39m\u001b[38;5;241m.\u001b[39m_backward_hooks \u001b[38;5;129;01mor\u001b[39;00m \u001b[38;5;28mself\u001b[39m\u001b[38;5;241m.\u001b[39m_forward_hooks \u001b[38;5;129;01mor\u001b[39;00m \u001b[38;5;28mself\u001b[39m\u001b[38;5;241m.\u001b[39m_forward_pre_hooks \u001b[38;5;129;01mor\u001b[39;00m _global_backward_hooks\n\u001b[1;32m   1129\u001b[0m         \u001b[38;5;129;01mor\u001b[39;00m _global_forward_hooks \u001b[38;5;129;01mor\u001b[39;00m _global_forward_pre_hooks):\n\u001b[0;32m-> 1130\u001b[0m     \u001b[38;5;28;01mreturn\u001b[39;00m \u001b[43mforward_call\u001b[49m\u001b[43m(\u001b[49m\u001b[38;5;241;43m*\u001b[39;49m\u001b[38;5;28;43minput\u001b[39;49m\u001b[43m,\u001b[49m\u001b[43m \u001b[49m\u001b[38;5;241;43m*\u001b[39;49m\u001b[38;5;241;43m*\u001b[39;49m\u001b[43mkwargs\u001b[49m\u001b[43m)\u001b[49m\n\u001b[1;32m   1131\u001b[0m \u001b[38;5;66;03m# Do not call functions when jit is used\u001b[39;00m\n\u001b[1;32m   1132\u001b[0m full_backward_hooks, non_full_backward_hooks \u001b[38;5;241m=\u001b[39m [], []\n",
      "File \u001b[0;32m~/.conda/envs/pytorch/lib/python3.10/site-packages/torch/nn/modules/dropout.py:149\u001b[0m, in \u001b[0;36mDropout2d.forward\u001b[0;34m(self, input)\u001b[0m\n\u001b[1;32m    148\u001b[0m \u001b[38;5;28;01mdef\u001b[39;00m \u001b[38;5;21mforward\u001b[39m(\u001b[38;5;28mself\u001b[39m, \u001b[38;5;28minput\u001b[39m: Tensor) \u001b[38;5;241m-\u001b[39m\u001b[38;5;241m>\u001b[39m Tensor:\n\u001b[0;32m--> 149\u001b[0m     \u001b[38;5;28;01mreturn\u001b[39;00m \u001b[43mF\u001b[49m\u001b[38;5;241;43m.\u001b[39;49m\u001b[43mdropout2d\u001b[49m\u001b[43m(\u001b[49m\u001b[38;5;28;43minput\u001b[39;49m\u001b[43m,\u001b[49m\u001b[43m \u001b[49m\u001b[38;5;28;43mself\u001b[39;49m\u001b[38;5;241;43m.\u001b[39;49m\u001b[43mp\u001b[49m\u001b[43m,\u001b[49m\u001b[43m \u001b[49m\u001b[38;5;28;43mself\u001b[39;49m\u001b[38;5;241;43m.\u001b[39;49m\u001b[43mtraining\u001b[49m\u001b[43m,\u001b[49m\u001b[43m \u001b[49m\u001b[38;5;28;43mself\u001b[39;49m\u001b[38;5;241;43m.\u001b[39;49m\u001b[43minplace\u001b[49m\u001b[43m)\u001b[49m\n",
      "File \u001b[0;32m~/.conda/envs/pytorch/lib/python3.10/site-packages/torch/nn/functional.py:1344\u001b[0m, in \u001b[0;36mdropout2d\u001b[0;34m(input, p, training, inplace)\u001b[0m\n\u001b[1;32m   1337\u001b[0m \u001b[38;5;28;01mif\u001b[39;00m inp_dim \u001b[38;5;241m==\u001b[39m \u001b[38;5;241m3\u001b[39m:\n\u001b[1;32m   1338\u001b[0m     warnings\u001b[38;5;241m.\u001b[39mwarn(\u001b[38;5;124m\"\u001b[39m\u001b[38;5;124mdropout2d: Received a 3D input to dropout2d and assuming that channel-wise \u001b[39m\u001b[38;5;124m\"\u001b[39m\n\u001b[1;32m   1339\u001b[0m                   \u001b[38;5;124m\"\u001b[39m\u001b[38;5;124m1D dropout behavior is desired - input is interpreted as shape (N, C, L), where C \u001b[39m\u001b[38;5;124m\"\u001b[39m\n\u001b[1;32m   1340\u001b[0m                   \u001b[38;5;124m\"\u001b[39m\u001b[38;5;124mis the channel dim. This behavior will change in a future release to interpret the \u001b[39m\u001b[38;5;124m\"\u001b[39m\n\u001b[1;32m   1341\u001b[0m                   \u001b[38;5;124m\"\u001b[39m\u001b[38;5;124minput as one without a batch dimension, i.e. shape (C, H, W). To maintain the 1D \u001b[39m\u001b[38;5;124m\"\u001b[39m\n\u001b[1;32m   1342\u001b[0m                   \u001b[38;5;124m\"\u001b[39m\u001b[38;5;124mchannel-wise dropout behavior, please switch to using dropout1d instead.\u001b[39m\u001b[38;5;124m\"\u001b[39m)\n\u001b[0;32m-> 1344\u001b[0m result \u001b[38;5;241m=\u001b[39m _VF\u001b[38;5;241m.\u001b[39mfeature_dropout_(\u001b[38;5;28minput\u001b[39m, p, training) \u001b[38;5;28;01mif\u001b[39;00m inplace \u001b[38;5;28;01melse\u001b[39;00m \u001b[43m_VF\u001b[49m\u001b[38;5;241;43m.\u001b[39;49m\u001b[43mfeature_dropout\u001b[49m\u001b[43m(\u001b[49m\u001b[38;5;28;43minput\u001b[39;49m\u001b[43m,\u001b[49m\u001b[43m \u001b[49m\u001b[43mp\u001b[49m\u001b[43m,\u001b[49m\u001b[43m \u001b[49m\u001b[43mtraining\u001b[49m\u001b[43m)\u001b[49m\n\u001b[1;32m   1346\u001b[0m \u001b[38;5;28;01mreturn\u001b[39;00m result\n",
      "File \u001b[0;32m~/.conda/envs/pytorch/lib/python3.10/site-packages/torch/utils/data/_utils/signal_handling.py:66\u001b[0m, in \u001b[0;36m_set_SIGCHLD_handler.<locals>.handler\u001b[0;34m(signum, frame)\u001b[0m\n\u001b[1;32m     63\u001b[0m \u001b[38;5;28;01mdef\u001b[39;00m \u001b[38;5;21mhandler\u001b[39m(signum, frame):\n\u001b[1;32m     64\u001b[0m     \u001b[38;5;66;03m# This following call uses `waitid` with WNOHANG from C side. Therefore,\u001b[39;00m\n\u001b[1;32m     65\u001b[0m     \u001b[38;5;66;03m# Python can still get and update the process status successfully.\u001b[39;00m\n\u001b[0;32m---> 66\u001b[0m     \u001b[43m_error_if_any_worker_fails\u001b[49m\u001b[43m(\u001b[49m\u001b[43m)\u001b[49m\n\u001b[1;32m     67\u001b[0m     \u001b[38;5;28;01mif\u001b[39;00m previous_handler \u001b[38;5;129;01mis\u001b[39;00m \u001b[38;5;129;01mnot\u001b[39;00m \u001b[38;5;28;01mNone\u001b[39;00m:\n\u001b[1;32m     68\u001b[0m         \u001b[38;5;28;01massert\u001b[39;00m callable(previous_handler)\n",
      "\u001b[0;31mRuntimeError\u001b[0m: DataLoader worker (pid 89862) is killed by signal: Killed. "
     ]
    }
   ],
   "source": [
    "# for all data\n",
    "test_k_df = parse_val_ks(test_df)\n",
    "testset = QUAM_atom_regressor_10_imgs(args, test_k_df, mode='test')\n",
    "test_loader = torch.utils.data.DataLoader(testset, batch_size=100, shuffle=False, num_workers=7,\n",
    "                                           pin_memory=True)\n",
    "\n",
    "test_predictions = []\n",
    "ground_truth = []\n",
    "\n",
    "with torch.no_grad():\n",
    "    for batch, target in tqdm(test_loader):\n",
    "\n",
    "        # move data to the device\n",
    "        batch = batch.to(device)\n",
    "\n",
    "        # make predictions\n",
    "        predictions = torch.round(model(batch))\n",
    "        ground_truth.append(target.cpu().detach().numpy())\n",
    "        test_predictions.append(predictions.cpu().detach().numpy())\n",
    "\n",
    "test_predictions = np.concatenate(test_predictions)\n",
    "ground_truth = np.concatenate(ground_truth)"
   ]
  },
  {
   "cell_type": "code",
   "execution_count": 38,
   "id": "495e3512",
   "metadata": {},
   "outputs": [],
   "source": [
    "test_predictions = np.concatenate(test_predictions)\n",
    "ground_truth = np.concatenate(ground_truth)"
   ]
  },
  {
   "cell_type": "code",
   "execution_count": 39,
   "id": "9b84b733",
   "metadata": {},
   "outputs": [
    {
     "data": {
      "text/plain": [
       "191700"
      ]
     },
     "execution_count": 39,
     "metadata": {},
     "output_type": "execute_result"
    }
   ],
   "source": [
    "len(ground_truth)"
   ]
  },
  {
   "cell_type": "code",
   "execution_count": 40,
   "id": "f3ba961d",
   "metadata": {},
   "outputs": [],
   "source": [
    "C_diff = np.abs(test_predictions[:, 0] - ground_truth[:, 0])\n",
    "corr = np.asarray(list(test_k_df['corrugation'].iloc[:191700]))"
   ]
  },
  {
   "cell_type": "code",
   "execution_count": 41,
   "id": "39957aa5",
   "metadata": {},
   "outputs": [],
   "source": [
    "carbon_diff_df = pd.DataFrame({'C_diff': C_diff, 'corrugation':corr})\n"
   ]
  },
  {
   "cell_type": "code",
   "execution_count": null,
   "id": "5acd67ee",
   "metadata": {},
   "outputs": [],
   "source": [
    "carbon_diff_df.to_pickle('carbon_diff_df.gzip')"
   ]
  },
  {
   "cell_type": "code",
   "execution_count": 42,
   "id": "5c67bf37",
   "metadata": {},
   "outputs": [
    {
     "data": {
      "text/plain": [
       "Text(0.5, 0, 'Error in C prediction')"
      ]
     },
     "execution_count": 42,
     "metadata": {},
     "output_type": "execute_result"
    },
    {
     "data": {
      "image/png": "[encoded data removed]",
      "text/plain": [
       "<Figure size 640x480 with 1 Axes>"
      ]
     },
     "metadata": {},
     "output_type": "display_data"
    }
   ],
   "source": [
    "import seaborn as sns\n",
    "sns.boxplot(data=carbon_diff_df, x='C_diff', y='corrugation')\n",
    "plt.xlabel('Error in C prediction')\n"
   ]
  },
  {
   "cell_type": "code",
   "execution_count": null,
   "id": "2a84d189",
   "metadata": {},
   "outputs": [],
   "source": [
    "import seaborn as sns\n",
    "sns.boxplot(data=carbon_diff_df, x='C_diff', y='corrugation')\n",
    "plt.xlabel('Error in C prediction')\n"
   ]
  },
  {
   "cell_type": "markdown",
   "id": "b0d221de",
   "metadata": {},
   "source": [
    "### Data Analysis of atom counts"
   ]
  },
  {
   "cell_type": "code",
   "execution_count": 5,
   "id": "32255a1f",
   "metadata": {},
   "outputs": [
    {
     "data": {
      "text/plain": [
       "array([[<AxesSubplot:ylabel='Frequency'>,\n",
       "        <AxesSubplot:ylabel='Frequency'>,\n",
       "        <AxesSubplot:ylabel='Frequency'>],\n",
       "       [<AxesSubplot:ylabel='Frequency'>,\n",
       "        <AxesSubplot:ylabel='Frequency'>,\n",
       "        <AxesSubplot:ylabel='Frequency'>],\n",
       "       [<AxesSubplot:ylabel='Frequency'>,\n",
       "        <AxesSubplot:ylabel='Frequency'>,\n",
       "        <AxesSubplot:ylabel='Frequency'>]], dtype=object)"
      ]
     },
     "execution_count": 5,
     "metadata": {},
     "output_type": "execute_result"
    },
    {
     "data": {
      "image/png": "[encoded data removed]",
      "text/plain": [
       "<Figure size 1500x1500 with 9 Axes>"
      ]
     },
     "metadata": {},
     "output_type": "display_data"
    }
   ],
   "source": [
    "train_df = dataset_df[dataset_df['split'] == 'train']\n",
    "train_df[['C', 'Br', 'Cl', 'F', 'I', 'N', 'O', 'P', 'S']].plot.hist(subplots=True, legend=True, layout=(3, 3),\n",
    "                                                                   figsize = [15, 15], logy=True, sharex=False)"
   ]
  },
  {
   "cell_type": "code",
   "execution_count": 6,
   "id": "f9170449",
   "metadata": {},
   "outputs": [
    {
     "data": {
      "image/png": "[encoded data removed]",
      "text/plain": [
       "<Figure size 1850x1050 with 9 Axes>"
      ]
     },
     "metadata": {},
     "output_type": "display_data"
    }
   ],
   "source": [
    "fig, ax = plt.subplots(3,3)\n",
    "\n",
    "for i, col in enumerate(['C', 'Br', 'Cl', 'F', 'I', 'N', 'O', 'P', 'S']):\n",
    "    if (col == 'P'):\n",
    "        ax[i//3, i%3].hist(train_df[col], density=False, log=True, bins=5)\n",
    "        ax[i//3, i%3].set_title(col, fontsize = 13)\n",
    "    else:\n",
    "        ax[i//3, i%3].hist(train_df[col], density=False, log=True)\n",
    "        ax[i//3, i%3].set_title(col, fontsize = 13)\n",
    "    \n",
    "fig.set_size_inches(18.5, 10.5)\n",
    "plt.show()"
   ]
  },
  {
   "cell_type": "markdown",
   "id": "67c27b34",
   "metadata": {},
   "source": [
    "### Compute accuracy on hallogens when there is at least 1\n",
    "Since there are far more cases of molecules with 0 hallogens than 1, we compute the accuracy over molecules that at least have 1 hallogen."
   ]
  },
  {
   "cell_type": "code",
   "execution_count": 13,
   "id": "905fde40",
   "metadata": {
    "scrolled": true
   },
   "outputs": [
    {
     "name": "stdout",
     "output_type": "stream",
     "text": [
      "Obtaining statistics for atom Br\n",
      "valid_loss: 0.022235761840567594\n",
      "valid_accuracy: 0.9005263\n",
      "acc_atom_dict: {'C': 0.9338688, 'Br': 0.97172004, 'Cl': 0.9933593, 'F': 0.99724627, 'I': 0.9775904, 'N': 0.9866381, 'O': 0.99186105, 'P': 1.0, 'S': 0.9987446}\n",
      "---------------------------------\n",
      "Obtaining statistics for atom Cl\n",
      "valid_loss: 0.02900625335815538\n",
      "valid_accuracy: 0.87083036\n",
      "acc_atom_dict: {'C': 0.9117307, 'Br': 0.96507305, 'Cl': 0.96207756, 'F': 0.99630827, 'I': 0.99583584, 'N': 0.98178226, 'O': 0.9891331, 'P': 0.99997044, 'S': 0.9969874}\n",
      "---------------------------------\n",
      "Obtaining statistics for atom F\n",
      "valid_loss: 0.03159407262547155\n",
      "valid_accuracy: 0.8563086\n",
      "acc_atom_dict: {'C': 0.8946086, 'Br': 0.98460245, 'Cl': 0.9870505, 'F': 0.97731614, 'I': 0.9957481, 'N': 0.9780776, 'O': 0.97208637, 'P': 0.9999412, 'S': 0.9970806}\n",
      "---------------------------------\n",
      "Obtaining statistics for atom I\n",
      "valid_loss: 0.01741292145103216\n",
      "valid_accuracy: 0.92897767\n",
      "acc_atom_dict: {'C': 0.9491559, 'Br': 0.9921778, 'Cl': 0.99546653, 'F': 0.99733317, 'I': 0.9941332, 'N': 0.9847116, 'O': 0.99066657, 'P': 0.99991107, 'S': 0.99724436}\n",
      "---------------------------------\n",
      "Obtaining statistics for atom N\n",
      "valid_loss: 0.030840453899905418\n",
      "valid_accuracy: 0.8418844\n",
      "acc_atom_dict: {'C': 0.86811256, 'Br': 0.98856, 'Cl': 0.9905596, 'F': 0.9952084, 'I': 0.9957047, 'N': 0.9720294, 'O': 0.9834315, 'P': 0.99937874, 'S': 0.994991}\n",
      "---------------------------------\n",
      "Obtaining statistics for atom O\n",
      "valid_loss: 0.031631216178548555\n",
      "valid_accuracy: 0.83547723\n",
      "acc_atom_dict: {'C': 0.8640093, 'Br': 0.98940927, 'Cl': 0.9913633, 'F': 0.9952351, 'I': 0.99593204, 'N': 0.97133195, 'O': 0.9786785, 'P': 0.99926656, 'S': 0.9950984}\n",
      "---------------------------------\n",
      "Obtaining statistics for atom P\n",
      "valid_loss: 0.3285704255104065\n",
      "valid_accuracy: 0.3047059\n",
      "acc_atom_dict: {'C': 0.62386554, 'Br': 1.0, 'Cl': 0.9942857, 'F': 1.0, 'I': 0.98285717, 'N': 0.7122689, 'O': 0.73831934, 'P': 0.51512605, 'S': 0.8315967}\n",
      "---------------------------------\n",
      "Obtaining statistics for atom S\n",
      "valid_loss: 0.027478900871395158\n",
      "valid_accuracy: 0.8559378\n",
      "acc_atom_dict: {'C': 0.8783771, 'Br': 0.99055874, 'Cl': 0.991224, 'F': 0.9975549, 'I': 0.9960648, 'N': 0.9761104, 'O': 0.98582363, 'P': 0.99940675, 'S': 0.9916438}\n",
      "---------------------------------\n"
     ]
    }
   ],
   "source": [
    "for atom in ['Br', 'Cl', 'F', 'I', 'N', 'O', 'P', 'S']:   \n",
    "    print(f'Obtaining statistics for atom {atom}')\n",
    "    subset_df = test_df[test_df[atom]>=1]\n",
    "\n",
    "\n",
    "    testset = QUAM_atom_regressor_10_imgs(args, parse_val_ks(subset_df), mode='test')\n",
    "    test_loader = torch.utils.data.DataLoader(testset, batch_size=args.test_batch_size, shuffle=True, num_workers=7,\n",
    "                                           pin_memory=True)\n",
    "    valid_loss, valid_accuracy, acc_atom_dict = validate_regression(model, test_loader, criterion, device)\n",
    "    print('valid_loss:', valid_loss)\n",
    "    print('valid_accuracy:', valid_accuracy)\n",
    "    print('acc_atom_dict:', acc_atom_dict)\n",
    "    \n",
    "    print('---------------------------------')\n"
   ]
  },
  {
   "cell_type": "code",
   "execution_count": 16,
   "id": "19581343",
   "metadata": {},
   "outputs": [],
   "source": [
    "data_path = '/home/manuel/QUAM-AFM/datasets/atoms_count_df.gz'\n",
    "dataset_df = pd.read_pickle(data_path)\n",
    "\n",
    "test_df = dataset_df[dataset_df['split'] == 'test']\n",
    "subset_df = test_df[test_df['P']>=1]"
   ]
  },
  {
   "cell_type": "code",
   "execution_count": 19,
   "id": "e0376b04",
   "metadata": {},
   "outputs": [
    {
     "name": "stdout",
     "output_type": "stream",
     "text": [
      "49354\n",
      "67724\n",
      "51045\n",
      "11232\n",
      "257743\n",
      "219665\n",
      "317\n",
      "69131\n"
     ]
    }
   ],
   "source": [
    "for atom in ['Br', 'Cl', 'F', 'I', 'N', 'O', 'P', 'S']:   \n",
    "\n",
    "    subset_df = test_df[test_df[atom]>=1]\n",
    "    print(f'{len(subset_df)}')"
   ]
  },
  {
   "cell_type": "markdown",
   "id": "52c52c4e",
   "metadata": {},
   "source": [
    "### Check frequency of atom appereance\n",
    "We want to know in how many molecules a certain atom appears"
   ]
  },
  {
   "cell_type": "code",
   "execution_count": 3,
   "id": "4d94101f",
   "metadata": {},
   "outputs": [],
   "source": [
    "data_path = f'/home/{USER}/QUAM-AFM/datasets/atoms_count_w_H_df.gz'\n",
    "dataset_df = pd.read_pickle(data_path)\n",
    "train_df = dataset_df[dataset_df['split'] == 'train']"
   ]
  },
  {
   "cell_type": "code",
   "execution_count": 9,
   "id": "51f2df22",
   "metadata": {
    "scrolled": true
   },
   "outputs": [
    {
     "data": {
      "text/plain": [
       "C     99.937180\n",
       "Br     1.994806\n",
       "Cl     5.682249\n",
       "F      5.414473\n",
       "I      0.277251\n",
       "N     75.263915\n",
       "O     46.300625\n",
       "P      0.008072\n",
       "S      3.688847\n",
       "H     99.663789\n",
       "dtype: float64"
      ]
     },
     "execution_count": 9,
     "metadata": {},
     "output_type": "execute_result"
    }
   ],
   "source": [
    "(train_df[['C', 'Br', 'Cl', 'F', 'I', 'N', 'O', 'P', 'S', 'H']]>1).mean(axis=0)*100"
   ]
  }
 ],
 "metadata": {
  "kernelspec": {
   "display_name": "Python 3 (ipykernel)",
   "language": "python",
   "name": "python3"
  },
  "language_info": {
   "codemirror_mode": {
    "name": "ipython",
    "version": 3
   },
   "file_extension": ".py",
   "mimetype": "text/x-python",
   "name": "python",
   "nbconvert_exporter": "python",
   "pygments_lexer": "ipython3",
   "version": "3.10.9"
  }
 },
 "nbformat": 4,
 "nbformat_minor": 5
}
